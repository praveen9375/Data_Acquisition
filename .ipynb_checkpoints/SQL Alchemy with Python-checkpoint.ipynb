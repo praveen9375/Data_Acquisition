{
 "cells": [
  {
   "cell_type": "code",
   "execution_count": 1,
   "id": "ad4d3b30",
   "metadata": {},
   "outputs": [],
   "source": [
    "from flask import Flask, request, jsonify\n",
    "from flask_restful import Api, Resource\n",
    "from flask_mysqldb import MySQL"
   ]
  },
  {
   "cell_type": "code",
   "execution_count": 2,
   "id": "efde63b5",
   "metadata": {},
   "outputs": [],
   "source": [
    "app = Flask(__name__)\n",
    "app.config['MYSQL_HOST'] = 'localhost'\n",
    "app.config['MYSQL_USER'] = 'root'\n",
    "app.config['MYSQL_PASSWORD'] = 'Pass'\n",
    "app.config['MYSQL_DB'] = 'sql generators concepts'\n",
    "\n",
    "api = Api(app)"
   ]
  },
  {
   "cell_type": "code",
   "execution_count": 3,
   "id": "d96daaaa",
   "metadata": {},
   "outputs": [],
   "source": [
    "mysql = MySQL(app)"
   ]
  },
  {
   "cell_type": "code",
   "execution_count": 4,
   "id": "54f7a5f2",
   "metadata": {},
   "outputs": [],
   "source": [
    "class BaseResource(Resource):\n",
    "    def get(self, report_type=None):\n",
    "        return {'message': 'GET method call for database'}\n",
    "\n",
    "    def post(self, report_type=None):\n",
    "        sdate = request.json['sdate']\n",
    "        edate = request.json['edate']\n",
    "        account_id = request.json['account_id']\n",
    "        return {'message': f'POST method call with sdate: {sdate}, edate: {edate}, accountid: {accountid}'}"
   ]
  },
  {
   "cell_type": "code",
   "execution_count": 7,
   "id": "4b9aefdf",
   "metadata": {},
   "outputs": [],
   "source": [
    "class HomeResource(BaseResource):\n",
    "    def __init__(self):\n",
    "        super().__init__()\n",
    "        self.methods = {\n",
    "            'glance': self.handle_report,\n",
    "            'daywise': self.handle_report\n",
    "        }\n",
    "\n",
    "    def get(self, report_type=None):\n",
    "        if report_type in self.methods:\n",
    "            return self.methods[report_type]()\n",
    "        return super().get(report_type)\n",
    "\n",
    "    def handle_report(self):\n",
    "        cur = mysql.connection.cursor()\n",
    "        sdate = request.json.get('sdate')\n",
    "        edate = request.json.get('edate')\n",
    "        account_id = request.json.get('account_id')\n",
    "\n",
    "        if request.path == '/home/glance':\n",
    "            query = f\"SELECT SUM(time_spent) AS totalspend, account_id FROM fact_table WHERE started_day BETWEEN '{sdate}' AND '{edate}' AND account_id = {account_id} GROUP BY accountid\"\n",
    "        elif request.path == '/home/daywise':\n",
    "            query = f\"SELECT SUM(time_spent) AS totalspend, account_id, DAY(started_day) AS day FROM fact_table WHERE started_day BETWEEN '{sdate}' AND '{edate}' AND account_id = {account_id} GROUP BY account_id, day\"\n",
    "\n",
    "        cur.execute(query)\n",
    "        data = cur.fetchall()\n",
    "        cur.close()\n",
    "        #for return result in json format\n",
    "        result = []\n",
    "        for row in data:\n",
    "            result.append({\n",
    "                'totalspend': row[0],\n",
    "                'accountid': row[1],\n",
    "                'day': row[2] if len(row) > 2 else None\n",
    "            })\n",
    "\n",
    "        return jsonify(result)"
   ]
  },
  {
   "cell_type": "code",
   "execution_count": 8,
   "id": "f97b73bb",
   "metadata": {},
   "outputs": [],
   "source": [
    "\n",
    "resources = [\n",
    "    (['/home', '/home/', '/home/<string:report_type>'], HomeResource)\n",
    "]"
   ]
  },
  {
   "cell_type": "code",
   "execution_count": 9,
   "id": "b4f48d87",
   "metadata": {},
   "outputs": [],
   "source": [
    "for routes, resource_class in resources:\n",
    "    api.add_resource(resource_class, *routes)"
   ]
  },
  {
   "cell_type": "code",
   "execution_count": null,
   "id": "45d17198",
   "metadata": {},
   "outputs": [
    {
     "name": "stdout",
     "output_type": "stream",
     "text": [
      " * Serving Flask app \"__main__\" (lazy loading)\n",
      " * Environment: production\n",
      "\u001b[31m   WARNING: This is a development server. Do not use it in a production deployment.\u001b[0m\n",
      "\u001b[2m   Use a production WSGI server instead.\u001b[0m\n",
      " * Debug mode: off\n"
     ]
    },
    {
     "name": "stderr",
     "output_type": "stream",
     "text": [
      " * Running on http://127.0.0.1:5000/ (Press CTRL+C to quit)\n",
      "[2023-06-22 10:14:47,755] ERROR in app: Exception on /home/glance [POST]\n",
      "Traceback (most recent call last):\n",
      "  File \"C:\\Users\\PraVEen\\anaconda3\\lib\\site-packages\\flask\\app.py\", line 1950, in full_dispatch_request\n",
      "    rv = self.dispatch_request()\n",
      "  File \"C:\\Users\\PraVEen\\anaconda3\\lib\\site-packages\\flask\\app.py\", line 1936, in dispatch_request\n",
      "    return self.view_functions[rule.endpoint](**req.view_args)\n",
      "  File \"C:\\Users\\PraVEen\\anaconda3\\lib\\site-packages\\flask_restful\\__init__.py\", line 467, in wrapper\n",
      "    resp = resource(*args, **kwargs)\n",
      "  File \"C:\\Users\\PraVEen\\anaconda3\\lib\\site-packages\\flask\\views.py\", line 89, in view\n",
      "    return self.dispatch_request(*args, **kwargs)\n",
      "  File \"C:\\Users\\PraVEen\\anaconda3\\lib\\site-packages\\flask_restful\\__init__.py\", line 582, in dispatch_request\n",
      "    resp = meth(*args, **kwargs)\n",
      "  File \"C:\\Users\\PraVEen\\AppData\\Local\\Temp\\ipykernel_6252\\1377931879.py\", line 9, in post\n",
      "    return {'message': f'POST method call with sdate: {sdate}, edate: {edate}, accountid: {accountid}'}\n",
      "NameError: name 'accountid' is not defined\n",
      "127.0.0.1 - - [22/Jun/2023 10:14:47] \"POST /home/glance HTTP/1.1\" 500 -\n"
     ]
    }
   ],
   "source": [
    "if __name__ == '__main__':\n",
    "    app.run()"
   ]
  },
  {
   "cell_type": "code",
   "execution_count": null,
   "id": "9b00f9be",
   "metadata": {},
   "outputs": [],
   "source": []
  }
 ],
 "metadata": {
  "kernelspec": {
   "display_name": "Python 3 (ipykernel)",
   "language": "python",
   "name": "python3"
  },
  "language_info": {
   "codemirror_mode": {
    "name": "ipython",
    "version": 3
   },
   "file_extension": ".py",
   "mimetype": "text/x-python",
   "name": "python",
   "nbconvert_exporter": "python",
   "pygments_lexer": "ipython3",
   "version": "3.9.13"
  }
 },
 "nbformat": 4,
 "nbformat_minor": 5
}
