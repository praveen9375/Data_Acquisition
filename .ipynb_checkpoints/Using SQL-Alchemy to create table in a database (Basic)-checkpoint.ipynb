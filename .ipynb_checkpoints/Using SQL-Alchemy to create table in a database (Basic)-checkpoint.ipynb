{
 "cells": [
  {
   "cell_type": "code",
   "execution_count": null,
   "id": "a5f9051f",
   "metadata": {},
   "outputs": [],
   "source": [
    "pip install flask_mysqldb"
   ]
  },
  {
   "cell_type": "code",
   "execution_count": 1,
   "id": "794d5fed",
   "metadata": {},
   "outputs": [],
   "source": [
    "from flask import Flask\n",
    "import pymysql"
   ]
  },
  {
   "cell_type": "code",
   "execution_count": 2,
   "id": "cc45c9ae",
   "metadata": {},
   "outputs": [],
   "source": [
    "app = Flask(__name__)\n",
    "app.config['MYSQL_HOST'] = 'localhost'\n",
    "app.config['MYSQL_USER'] = 'root'\n",
    "app.config['MYSQL_PASSWORD'] = 'Praveen9375#'\n",
    "app.config['MYSQL_DB'] = 'sqlalchemy'"
   ]
  },
  {
   "cell_type": "code",
   "execution_count": 3,
   "id": "addddae5",
   "metadata": {},
   "outputs": [],
   "source": [
    "\n",
    "def get_db():\n",
    "    conn = pymysql.connect(\n",
    "        host=app.config['MYSQL_HOST'],\n",
    "        user=app.config['MYSQL_USER'],\n",
    "        password=app.config['MYSQL_PASSWORD'],\n",
    "        db=app.config['MYSQL_DB']\n",
    "    )\n",
    "    return conn"
   ]
  },
  {
   "cell_type": "code",
   "execution_count": 4,
   "id": "7cd78a0b",
   "metadata": {},
   "outputs": [],
   "source": [
    "@app.route('/')\n",
    "def index():\n",
    "    conn = get_db()\n",
    "    cur = conn.cursor()\n",
    "    cur.execute(\"CREATE TABLE IF NOT EXISTS New_Table (id INT PRIMARY KEY AUTO_INCREMENT, name VARCHAR(255), age INT, department VARCHAR(255))\")\n",
    "    conn.commit()\n",
    "    cur.close()\n",
    "    conn.close()\n",
    "    return \"Table created successfully!\""
   ]
  },
  {
   "cell_type": "code",
   "execution_count": 5,
   "id": "d385230b",
   "metadata": {},
   "outputs": [
    {
     "name": "stdout",
     "output_type": "stream",
     "text": [
      " * Serving Flask app \"__main__\" (lazy loading)\n",
      " * Environment: production\n",
      "\u001b[31m   WARNING: This is a development server. Do not use it in a production deployment.\u001b[0m\n",
      "\u001b[2m   Use a production WSGI server instead.\u001b[0m\n",
      " * Debug mode: off\n"
     ]
    },
    {
     "name": "stderr",
     "output_type": "stream",
     "text": [
      " * Running on http://127.0.0.1:5000/ (Press CTRL+C to quit)\n",
      "[2023-06-20 15:47:33,362] ERROR in app: Exception on / [GET]\n",
      "Traceback (most recent call last):\n",
      "  File \"C:\\Users\\PraVEen\\anaconda3\\lib\\site-packages\\flask\\app.py\", line 2447, in wsgi_app\n",
      "    response = self.full_dispatch_request()\n",
      "  File \"C:\\Users\\PraVEen\\anaconda3\\lib\\site-packages\\flask\\app.py\", line 1952, in full_dispatch_request\n",
      "    rv = self.handle_user_exception(e)\n",
      "  File \"C:\\Users\\PraVEen\\anaconda3\\lib\\site-packages\\flask\\app.py\", line 1821, in handle_user_exception\n",
      "    reraise(exc_type, exc_value, tb)\n",
      "  File \"C:\\Users\\PraVEen\\anaconda3\\lib\\site-packages\\flask\\_compat.py\", line 39, in reraise\n",
      "    raise value\n",
      "  File \"C:\\Users\\PraVEen\\anaconda3\\lib\\site-packages\\flask\\app.py\", line 1950, in full_dispatch_request\n",
      "    rv = self.dispatch_request()\n",
      "  File \"C:\\Users\\PraVEen\\anaconda3\\lib\\site-packages\\flask\\app.py\", line 1936, in dispatch_request\n",
      "    return self.view_functions[rule.endpoint](**req.view_args)\n",
      "  File \"C:\\Users\\PraVEen\\AppData\\Local\\Temp\\ipykernel_12268\\2265515074.py\", line 3, in index\n",
      "    conn = get_db()\n",
      "  File \"C:\\Users\\PraVEen\\AppData\\Local\\Temp\\ipykernel_12268\\262017697.py\", line 2, in get_db\n",
      "    conn = pymysql.connect(\n",
      "  File \"C:\\Users\\PraVEen\\anaconda3\\lib\\site-packages\\pymysql\\connections.py\", line 353, in __init__\n",
      "    self.connect()\n",
      "  File \"C:\\Users\\PraVEen\\anaconda3\\lib\\site-packages\\pymysql\\connections.py\", line 633, in connect\n",
      "    self._request_authentication()\n",
      "  File \"C:\\Users\\PraVEen\\anaconda3\\lib\\site-packages\\pymysql\\connections.py\", line 921, in _request_authentication\n",
      "    auth_packet = self._process_auth(plugin_name, auth_packet)\n",
      "  File \"C:\\Users\\PraVEen\\anaconda3\\lib\\site-packages\\pymysql\\connections.py\", line 1018, in _process_auth\n",
      "    pkt = self._read_packet()\n",
      "  File \"C:\\Users\\PraVEen\\anaconda3\\lib\\site-packages\\pymysql\\connections.py\", line 725, in _read_packet\n",
      "    packet.raise_for_error()\n",
      "  File \"C:\\Users\\PraVEen\\anaconda3\\lib\\site-packages\\pymysql\\protocol.py\", line 221, in raise_for_error\n",
      "    err.raise_mysql_exception(self._data)\n",
      "  File \"C:\\Users\\PraVEen\\anaconda3\\lib\\site-packages\\pymysql\\err.py\", line 143, in raise_mysql_exception\n",
      "    raise errorclass(errno, errval)\n",
      "pymysql.err.OperationalError: (1045, \"Access denied for user 'root'@'localhost' (using password: YES)\")\n",
      "127.0.0.1 - - [20/Jun/2023 15:47:33] \"GET / HTTP/1.1\" 500 -\n"
     ]
    }
   ],
   "source": [
    "if __name__ == '__main__':\n",
    "    app.run()"
   ]
  }
 ],
 "metadata": {
  "kernelspec": {
   "display_name": "Python 3 (ipykernel)",
   "language": "python",
   "name": "python3"
  },
  "language_info": {
   "codemirror_mode": {
    "name": "ipython",
    "version": 3
   },
   "file_extension": ".py",
   "mimetype": "text/x-python",
   "name": "python",
   "nbconvert_exporter": "python",
   "pygments_lexer": "ipython3",
   "version": "3.9.13"
  }
 },
 "nbformat": 4,
 "nbformat_minor": 5
}
