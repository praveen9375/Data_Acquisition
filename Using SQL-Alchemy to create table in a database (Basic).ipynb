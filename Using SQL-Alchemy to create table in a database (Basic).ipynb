{
 "cells": [
  {
   "cell_type": "code",
   "execution_count": 6,
   "id": "a5f9051f",
   "metadata": {},
   "outputs": [
    {
     "name": "stdout",
     "output_type": "stream",
     "text": [
      "(1,)\n"
     ]
    }
   ],
   "source": [
    "import pymysql\n",
    "\n",
    "conn = pymysql.connect(\n",
    "    host='localhost',\n",
    "    user='root',\n",
    "    password='Praveen9375#',\n",
    "    db='sqlalchemy'\n",
    ")\n",
    "\n",
    "cur = conn.cursor()\n",
    "cur.execute(\"SELECT 1\")\n",
    "result = cur.fetchone()\n",
    "print(result)\n",
    "\n",
    "cur.close()\n",
    "conn.close()"
   ]
  },
  {
   "cell_type": "code",
   "execution_count": null,
   "id": "a4ce3e76",
   "metadata": {},
   "outputs": [],
   "source": [
    "from flask import Flask, request, jsonify\n",
    "from flask_restful import Api, Resource\n",
    "from flask_mysqldb import MySQL\n",
    "\n",
    "app = Flask(__name__)\n",
    "api = Api(app)\n",
    "\n",
    "app.config['MYSQL_HOST'] = 'localhost'\n",
    "app.config['MYSQL_USER'] = 'root'\n",
    "app.config['MYSQL_PASSWORD'] = 'Sagarmatha@123'\n",
    "app.config['MYSQL_DB'] = 'new_schema'\n",
    "\n",
    "mysql = MySQL(app)\n",
    "\n",
    "class BaseResource(Resource):\n",
    "    def get(self, report_type=None):\n",
    "        return {'message': 'GET method call for database'}\n",
    "\n",
    "    def post(self, report_type=None):\n",
    "        sdate = request.json['sdate']\n",
    "        edate = request.json['edate']\n",
    "        accountid = request.json['accountid']\n",
    "        return {'message': f'POST method call with sdate: {sdate}, edate: {edate}, accountid: {accountid}'}\n",
    "\n",
    "class HomeResource(BaseResource):\n",
    "    def __init__(self):\n",
    "        super().__init__()\n",
    "        self.methods = {\n",
    "            'glance': self.handle_report,\n",
    "            'daywise': self.handle_report\n",
    "        }\n",
    "\n",
    "    def get(self, report_type=None):\n",
    "        if report_type in self.methods:\n",
    "            return self.methods[report_type]()\n",
    "        return super().get(report_type)\n",
    "\n",
    "    def handle_report(self):\n",
    "        cur = mysql.connection.cursor()\n",
    "        sdate = request.json.get('sdate')\n",
    "        edate = request.json.get('edate')\n",
    "        accountid = request.json.get('accountid')\n",
    "\n",
    "        if request.path == '/home/glance':\n",
    "            query = f\"SELECT SUM(spend) AS totalspend, accountid FROM fact_table WHERE fdate BETWEEN '{sdate}' AND '{edate}' AND accountid = {accountid} GROUP BY accountid\"\n",
    "        elif request.path == '/home/daywise':\n",
    "            query = f\"SELECT SUM(spend) AS totalspend, accountid, DAY(fdate) AS day FROM fact_table WHERE fdate BETWEEN '{sdate}' AND '{edate}' AND accountid = {accountid} GROUP BY accountid, day\"\n",
    "\n",
    "        cur.execute(query)\n",
    "        data = cur.fetchall()\n",
    "        cur.close()\n",
    "#for return result in json format\n",
    "        result = []\n",
    "        for row in data:\n",
    "            result.append({\n",
    "                'totalspend': row[0],\n",
    "                'accountid': row[1],\n",
    "                'day': row[2] if len(row) > 2 else None\n",
    "            })\n",
    "\n",
    "        return jsonify(result)\n",
    "\n",
    "\n",
    "resources = [\n",
    "    (['/home', '/home/', '/home/<string:report_type>'], HomeResource)\n",
    "]\n",
    "# Dynamically handle resources\n",
    "for routes, resource_class in resources:\n",
    "    api.add_resource(resource_class, *routes)\n",
    "\n",
    "if _name_ == '__main__':\n",
    "    app.run(debug=True)"
   ]
  },
  {
   "cell_type": "code",
   "execution_count": 5,
   "id": "794d5fed",
   "metadata": {},
   "outputs": [],
   "source": [
    "from flask import Flask\n",
    "import pymysql"
   ]
  },
  {
   "cell_type": "code",
   "execution_count": 6,
   "id": "cc45c9ae",
   "metadata": {},
   "outputs": [],
   "source": [
    "app = Flask(__name__)\n",
    "app.config['MYSQL_HOST'] = 'localhost'\n",
    "app.config['MYSQL_USER'] = 'root'\n",
    "app.config['MYSQL_PASSWORD'] = 'Praveen9375#'\n",
    "app.config['MYSQL_DB'] = 'sqlalchemy'"
   ]
  },
  {
   "cell_type": "code",
   "execution_count": 7,
   "id": "addddae5",
   "metadata": {},
   "outputs": [],
   "source": [
    "\n",
    "def get_db():\n",
    "    conn = pymysql.connect(\n",
    "        host=app.config['MYSQL_HOST'],\n",
    "        user=app.config['MYSQL_USER'],\n",
    "        password=app.config['MYSQL_PASSWORD'],\n",
    "        db=app.config['MYSQL_DB']\n",
    "    )\n",
    "    return conn"
   ]
  },
  {
   "cell_type": "code",
   "execution_count": 8,
   "id": "7cd78a0b",
   "metadata": {},
   "outputs": [],
   "source": [
    "@app.route('/')\n",
    "def index():\n",
    "    conn = get_db()\n",
    "    cur = conn.cursor()\n",
    "    cur.execute(\"CREATE TABLE IF NOT EXISTS New_Table (id INT PRIMARY KEY AUTO_INCREMENT, name VARCHAR(255), age INT, department VARCHAR(255))\")\n",
    "    conn.commit()\n",
    "    cur.close()\n",
    "    conn.close()\n",
    "    return \"Table created successfully!\""
   ]
  },
  {
   "cell_type": "code",
   "execution_count": null,
   "id": "d385230b",
   "metadata": {},
   "outputs": [
    {
     "name": "stdout",
     "output_type": "stream",
     "text": [
      " * Serving Flask app \"__main__\" (lazy loading)\n",
      " * Environment: production\n",
      "\u001b[31m   WARNING: This is a development server. Do not use it in a production deployment.\u001b[0m\n",
      "\u001b[2m   Use a production WSGI server instead.\u001b[0m\n",
      " * Debug mode: off\n"
     ]
    },
    {
     "name": "stderr",
     "output_type": "stream",
     "text": [
      " * Running on http://127.0.0.1:5000/ (Press CTRL+C to quit)\n",
      "127.0.0.1 - - [21/Jun/2023 07:41:42] \"GET / HTTP/1.1\" 200 -\n",
      "127.0.0.1 - - [21/Jun/2023 07:41:43] \"GET /favicon.ico HTTP/1.1\" 404 -\n"
     ]
    }
   ],
   "source": [
    "if __name__ == '__main__':\n",
    "    app.run()"
   ]
  }
 ],
 "metadata": {
  "kernelspec": {
   "display_name": "Python 3 (ipykernel)",
   "language": "python",
   "name": "python3"
  },
  "language_info": {
   "codemirror_mode": {
    "name": "ipython",
    "version": 3
   },
   "file_extension": ".py",
   "mimetype": "text/x-python",
   "name": "python",
   "nbconvert_exporter": "python",
   "pygments_lexer": "ipython3",
   "version": "3.9.13"
  }
 },
 "nbformat": 4,
 "nbformat_minor": 5
}
